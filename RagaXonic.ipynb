{
  "cells": [
    {
      "cell_type": "code",
      "execution_count": null,
      "metadata": {
        "id": "EeLis3eDVliT"
      },
      "outputs": [],
      "source": [
        "!pip install music21 keras tensorflow numpy"
      ]
    },
    {
      "cell_type": "code",
      "execution_count": null,
      "metadata": {
        "id": "PLmJIzPOVQEJ"
      },
      "outputs": [],
      "source": [
        "import glob\n",
        "import pickle\n",
        "import numpy as np\n",
        "import os\n",
        "import matplotlib.pyplot as plt\n",
        "from music21 import converter, instrument, note, chord, stream\n",
        "from keras.models import Sequential\n",
        "from keras.layers import Dense, Dropout, LSTM, Activation, BatchNormalization as BatchNorm\n",
        "from tensorflow.keras.utils import to_categorical\n",
        "from tensorflow.keras.models import load_model\n",
        "from keras.callbacks import ModelCheckpoint\n",
        "import zipfile\n",
        "from google.colab import drive\n",
        "from tqdm import tqdm"
      ]
    },
    {
      "cell_type": "code",
      "execution_count": null,
      "metadata": {
        "id": "Hrg8l39AVl0H"
      },
      "outputs": [],
      "source": [
        "drive.mount('/content/drive')"
      ]
    },
    {
      "cell_type": "markdown",
      "source": [
        "## Data Handling\n",
        "\n",
        "> Loading MIDIs, Extracting Notes, Dataset Preparation\n"
      ],
      "metadata": {
        "id": "36cN3fbJkPIv"
      }
    },
    {
      "cell_type": "code",
      "execution_count": null,
      "metadata": {
        "id": "nfqSVY66Vq_P",
        "colab": {
          "base_uri": "https://localhost:8080/"
        },
        "outputId": "110ae39a-ed12-44b5-b41e-a0608f3b1d41"
      },
      "outputs": [
        {
          "output_type": "stream",
          "name": "stdout",
          "text": [
            "Files found in: /content/drive/MyDrive/Midis\n",
            "\n",
            "Extracted MIDI files:\n",
            "ff7themep.mid\n",
            "Rachel_Piano_tempofix.mid\n",
            "lurk_in_dark.mid\n",
            "bcm.mid\n",
            "FFX_-_Ending_Theme_(Piano_Version)_-_by_Angel_FF.mid\n",
            "Still_Alive-1.mid\n",
            "FFIII_Edgar_And_Sabin_Piano.mid\n",
            "sobf.mid\n",
            "Fiend_Battle_(Piano).mid\n",
            "ff6shap.mid\n",
            "FF8_Shuffle_or_boogie_pc.mid\n",
            "FFIXQuMarshP.mid\n",
            "roseofmay-piano.mid\n",
            "ultimafro.mid\n",
            "Suteki_Da_Ne_(Piano_Version).mid\n",
            "0fithos.mid\n",
            "FF4.mid\n",
            "Kingdom_Hearts_Traverse_Town.mid\n",
            "figaro.mid\n",
            "balamb.mid\n",
            "OTD5YA.mid\n",
            "dontbeafraid.mid\n",
            "ff4-fight1.mid\n",
            "ViviinAlexandria.mid\n",
            "BlueStone_LastDungeon.mid\n",
            "sandy.mid\n",
            "DOS.mid\n",
            "waltz_de_choco.mid\n",
            "Ff7-Cinco.mid\n",
            "relmstheme-piano.mid\n",
            "thenightmarebegins.mid\n",
            "Final_Fantasy_Matouyas_Cave_Piano.mid\n",
            "goldsaucer.mid\n",
            "Final_Fantasy_7_-_Judgement_Day_Piano.mid\n",
            "tpirtsd-piano.mid\n",
            "Oppressed.mid\n",
            "ultros.mid\n",
            "ff11_awakening_piano.mid\n",
            "ff8-lfp.mid\n",
            "ff7-mainmidi.mid\n",
            "sera_.mid\n",
            "mining.mid\n",
            "Cids.mid\n",
            "VincentPiano.mid\n",
            "Finalfantasy6fanfarecomplete.mid\n",
            "FF3_Battle_(Piano).mid\n",
            "8.mid\n",
            "AT.mid\n",
            "Life_Stream.mid\n",
            "fortresscondor.mid\n",
            "gerudo.mid\n",
            "ff4pclov.mid\n",
            "In_Zanarkand.mid\n",
            "braska.mid\n",
            "FF6epitaph_piano.mid\n",
            "redwings.mid\n",
            "Ff4-BattleLust.mid\n",
            "path_of_repentance.mid\n",
            "electric_de_chocobo.mid\n",
            "pkelite4.mid\n",
            "Kingdom_Hearts_Dearly_Beloved.mid\n",
            "FFVII_BATTLE.mid\n",
            "great_war.mid\n",
            "Finalfantasy5gilgameshp.mid\n",
            "HighwindTakestotheSkies.mid\n",
            "costadsol.mid\n",
            "FFIX_Piano.mid\n",
            "Fierce_Battle_(Piano).mid\n",
            "Gold_Silver_Rival_Battle.mid\n",
            "FF3_Third_Phase_Final_(Piano).mid\n",
            "decisive.mid\n",
            "ff1battp.mid\n",
            "Zelda_Overworld.mid\n",
            "tifap.mid\n",
            "thoughts.mid\n",
            "Fyw_piano.mid\n",
            "dayafter.mid\n",
            "Ff7-Jenova_Absolute.mid\n",
            "JENOVA.mid\n",
            "ff4-airship.mid\n",
            "Eternal_Harvest.mid\n",
            "traitor.mid\n",
            "ff4-town.mid\n",
            "EyesOnMePiano.mid\n",
            "ahead_on_our_way_piano.mid\n",
            "caitsith.mid\n",
            "z_aeristhemepiano.mid\n",
            "Rydia_pc.mid\n",
            "rufus.mid\n",
            "ff4_piano_collections-main_theme.mid\n",
            "Ff7-One_Winged.mid\n",
            "cosmo.mid\n",
            "JaunaPuri.mid\n",
            "Adana.mid\n",
            "Gaud.mid\n",
            "Purvi.mid\n",
            "Miaki.mid\n",
            "Bhairav.mid\n",
            "bazigar.mid\n",
            "Tilak Kamode.mid\n",
            "Des.mid\n",
            "Tilang.mid\n",
            "Bahar.mid\n",
            "Chandra Kauns.mid\n",
            "Alhiya Bilawal.mid\n",
            "Miyan ki Malhar.mid\n",
            "Bageshri.mid\n",
            "Durga.mid\n",
            "Behag.mid\n",
            "DawnOfLove.mid\n",
            "Pahadi.mid\n",
            "Peelu.mid\n"
          ]
        }
      ],
      "source": [
        "midi_folder_path = '/content/drive/MyDrive/Midis'\n",
        "\n",
        "if os.path.exists(midi_folder_path):\n",
        "    print(f\"Files found in: {midi_folder_path}\")\n",
        "else:\n",
        "    print(\"MIDI folder not found.\")\n",
        "\n",
        "print(\"\\nExtracted MIDI files:\")\n",
        "midi_files = glob.glob(os.path.join(midi_folder_path, '*.mid'))\n",
        "if midi_files:\n",
        "    for midi_file in midi_files:\n",
        "        print(os.path.basename(midi_file))\n",
        "else:\n",
        "    print(\"No MIDI files found in the folder.\")"
      ]
    },
    {
      "cell_type": "code",
      "execution_count": null,
      "metadata": {
        "id": "hjsOoZgqVz8z"
      },
      "outputs": [],
      "source": [
        "def get_notes(midi_folder_path='/content/drive/MyDrive/Midis'):\n",
        "    notes = []\n",
        "\n",
        "    if not os.path.exists(midi_folder_path):\n",
        "        print(f\"Folder not found: {midi_folder_path}\")\n",
        "        return notes\n",
        "\n",
        "    midi_files = glob.glob(os.path.join(midi_folder_path, '*.mid'))\n",
        "    if not midi_files:\n",
        "        print(\"No MIDI files found in the specified folder.\")\n",
        "        return notes\n",
        "\n",
        "    print(f\"Found {len(midi_files)} MIDI files.\")\n",
        "\n",
        "    for file in midi_files:\n",
        "        print(f\"Parsing {file}\")\n",
        "        try:\n",
        "            midi = converter.parse(file)\n",
        "            notes_to_parse = (\n",
        "                instrument.partitionByInstrument(midi).parts[0].recurse()\n",
        "                if instrument.partitionByInstrument(midi)\n",
        "                else midi.flat.notes\n",
        "            )\n",
        "\n",
        "            for element in notes_to_parse:\n",
        "                if isinstance(element, note.Note):\n",
        "                    notes.append(str(element.pitch))\n",
        "                elif isinstance(element, chord.Chord):\n",
        "                    notes.append('.'.join(str(n) for n in element.normalOrder))\n",
        "        except Exception as e:\n",
        "            print(f\"Error parsing {file}: {e}\")\n",
        "\n",
        "    save_path = '/content/drive/MyDrive/data'\n",
        "    os.makedirs(save_path, exist_ok=True)\n",
        "    with open(os.path.join(save_path, 'notes'), 'wb') as filepath:\n",
        "        pickle.dump(notes, filepath)\n",
        "\n",
        "    print(\"Notes saved successfully.\")\n",
        "    return notes"
      ]
    },
    {
      "cell_type": "code",
      "execution_count": null,
      "metadata": {
        "id": "KhXb341iV1nn"
      },
      "outputs": [],
      "source": [
        "def prepare_sequences(notes, n_vocab):\n",
        "    sequence_length = 100\n",
        "    pitchnames = sorted(set(notes))\n",
        "    note_to_int = {note: num for num, note in enumerate(pitchnames)}\n",
        "    network_input = [ [note_to_int[note] for note in notes[i:i + sequence_length]] for i in range(len(notes) - sequence_length)]\n",
        "    network_output = [note_to_int[notes[i + sequence_length]] for i in range(len(notes) - sequence_length)]\n",
        "    network_input = np.reshape(network_input, (len(network_input), sequence_length, 1)) / float(n_vocab)\n",
        "    network_output = to_categorical(network_output)\n",
        "    return network_input, network_output\n"
      ]
    },
    {
      "cell_type": "markdown",
      "source": [
        "## Model Development & Training\n",
        "\n",
        "> Defining and Training the 3-Layered LSTM"
      ],
      "metadata": {
        "id": "YUJhiwo-kpeS"
      }
    },
    {
      "cell_type": "code",
      "execution_count": null,
      "metadata": {
        "id": "tQdG_SFpV3Tc"
      },
      "outputs": [],
      "source": [
        "def create_network(network_input, n_vocab):\n",
        "    model = Sequential([\n",
        "        LSTM(512, input_shape=(network_input.shape[1], network_input.shape[2]), recurrent_dropout=0.3, return_sequences=True),\n",
        "        LSTM(512, return_sequences=True, recurrent_dropout=0.3),\n",
        "        LSTM(512),\n",
        "        BatchNorm(),\n",
        "        Dropout(0.3),\n",
        "        Dense(256, activation='relu'),\n",
        "        BatchNorm(),\n",
        "        Dropout(0.3),\n",
        "        Dense(n_vocab, activation='softmax')\n",
        "    ])\n",
        "    model.compile(loss='categorical_crossentropy', optimizer='rmsprop', metrics=['accuracy'])\n",
        "    return model\n"
      ]
    },
    {
      "cell_type": "code",
      "source": [
        "with open('/content/drive/MyDrive/data/notes', 'rb') as filepath:\n",
        "    notes = pickle.load(filepath)\n",
        "\n",
        "pitchnames = sorted(set(notes))\n",
        "n_vocab = len(pitchnames)\n",
        "\n",
        "network_input, _ = prepare_sequences(notes, n_vocab)\n",
        "\n",
        "model = create_network(network_input, n_vocab)\n",
        "\n",
        "model.summary()"
      ],
      "metadata": {
        "id": "KaAfD-h7KgOT"
      },
      "execution_count": null,
      "outputs": []
    },
    {
      "cell_type": "code",
      "execution_count": null,
      "metadata": {
        "id": "RR29ophoVxkK"
      },
      "outputs": [],
      "source": [
        "def train_network():\n",
        "    notes = get_notes()\n",
        "    n_vocab = len(set(notes))\n",
        "    network_input, network_output = prepare_sequences(notes, n_vocab)\n",
        "    model = create_network(network_input, n_vocab)\n",
        "    train(model, network_input, network_output)"
      ]
    },
    {
      "cell_type": "code",
      "execution_count": null,
      "metadata": {
        "id": "F5pItm0XV5CB"
      },
      "outputs": [],
      "source": [
        "def train(model, network_input, network_output):\n",
        "    filepath = \"/content/drive/MyDrive/weights/weights-improvement-{epoch:02d}-{loss:.4f}-bigger.keras\"\n",
        "    os.makedirs('/content/drive/MyDrive/weights', exist_ok=True)\n",
        "    checkpoint = ModelCheckpoint(filepath, monitor='loss', save_best_only=True, mode='min')\n",
        "\n",
        "\n",
        "    history = model.fit(\n",
        "        network_input,\n",
        "        network_output,\n",
        "        epochs=120,\n",
        "        batch_size=128,\n",
        "        callbacks=[checkpoint]\n",
        "    )\n",
        "\n",
        "\n",
        "    final_model_path = \"/content/drive/MyDrive/weights/final_model.keras\"\n",
        "    model.save(final_model_path)\n",
        "    print(f\"Model saved to {final_model_path}\")\n",
        "\n",
        "    return history"
      ]
    },
    {
      "cell_type": "code",
      "execution_count": null,
      "metadata": {
        "id": "cH5rUCSuWtl3"
      },
      "outputs": [],
      "source": [
        "train_network()"
      ]
    },
    {
      "cell_type": "code",
      "source": [
        "from tensorflow.keras.models import load_model\n",
        "\n",
        "\n",
        "notes = get_notes()\n",
        "n_vocab = len(set(notes))\n",
        "network_input, network_output = prepare_sequences(notes, n_vocab)\n",
        "\n",
        "\n",
        "model_path = \"/content/drive/MyDrive/weights/final_model.keras\"\n",
        "model = load_model(model_path)\n",
        "\n",
        "filepath = \"/content/drive/MyDrive/weights/weights-improvement-{epoch:02d}-{loss:.4f}-extended.keras\"\n",
        "\n",
        "\n",
        "os.makedirs('/content/drive/MyDrive/weights', exist_ok=True)\n",
        "\n",
        "\n",
        "checkpoint = ModelCheckpoint(filepath, monitor='loss', save_best_only=True, mode='min')\n",
        "\n",
        "history = model.fit(\n",
        "    network_input,\n",
        "    network_output,\n",
        "    epochs=30,\n",
        "    batch_size=128,\n",
        "    callbacks=[checkpoint]\n",
        ")\n",
        "\n",
        "\n",
        "final_model_path = \"/content/drive/MyDrive/weights/final_model_extended.keras\"\n",
        "model.save(final_model_path)\n",
        "print(f\"Model saved to {final_model_path}\")"
      ],
      "metadata": {
        "id": "8ppfwnixrANT"
      },
      "execution_count": null,
      "outputs": []
    },
    {
      "cell_type": "markdown",
      "source": [
        "## Music Generation\n",
        "\n",
        "> Predicting & Generating Notes, Creating MIDI"
      ],
      "metadata": {
        "id": "soAXnBb-k-mL"
      }
    },
    {
      "cell_type": "code",
      "execution_count": 18,
      "metadata": {
        "id": "7fc2rzpEV_h8"
      },
      "outputs": [],
      "source": [
        "def generate_notes(model, network_input, pitchnames, n_vocab, temperature=2, num_notes=200):\n",
        "    start = np.random.randint(0, len(network_input) - 1)\n",
        "    int_to_note = {num: note for num, note in enumerate(pitchnames)}\n",
        "    pattern = network_input[start].tolist()\n",
        "    prediction_output = []\n",
        "\n",
        "    pattern = np.array(pattern)\n",
        "\n",
        "\n",
        "    for i in tqdm(range(num_notes), desc=\"Notes Generated\", ncols=100):\n",
        "        prediction_input = np.reshape(pattern, (1, len(pattern), 1)) / float(n_vocab)\n",
        "        predictions = model.predict(prediction_input, verbose=0)[0]\n",
        "\n",
        "\n",
        "        predictions = np.asarray(predictions).astype('float64')\n",
        "        predictions = np.log(predictions + 1e-7) / temperature\n",
        "        predictions = np.exp(predictions) / np.sum(np.exp(predictions))\n",
        "\n",
        "        index = np.random.choice(range(n_vocab), p=predictions)\n",
        "        prediction_output.append(int_to_note[index])\n",
        "\n",
        "\n",
        "        pattern = np.append(pattern, index)\n",
        "        pattern = pattern[1:]\n",
        "\n",
        "    return prediction_output\n"
      ]
    },
    {
      "cell_type": "code",
      "source": [
        "def convert_to_pitch_name(note_number, octave=4):\n",
        "    note_names = ['C', 'C#', 'D', 'D#', 'E', 'F', 'F#', 'G', 'G#', 'A', 'A#', 'B']\n",
        "    return f\"{note_names[note_number % 12]}{octave}\""
      ],
      "metadata": {
        "id": "plPI3JnABee6"
      },
      "execution_count": 12,
      "outputs": []
    },
    {
      "cell_type": "code",
      "execution_count": 13,
      "metadata": {
        "id": "piunDGgDWArW"
      },
      "outputs": [],
      "source": [
        "def create_midi(prediction_output, output_file='/content/drive/MyDrive/outputf.mid'):\n",
        "    offset = 0\n",
        "    output_notes = []\n",
        "\n",
        "    for pattern in prediction_output:\n",
        "        try:\n",
        "            if '.' in pattern:\n",
        "\n",
        "                notes = [note.Note(convert_to_pitch_name(int(n)), storedInstrument=instrument.Piano()) for n in pattern.split('.')]\n",
        "                if len(notes) > 3:\n",
        "                    notes = notes[:3]\n",
        "                output_notes.append(chord.Chord(notes, offset=offset))\n",
        "            else:\n",
        "                output_notes.append(note.Note(convert_to_pitch_name(int(pattern)), offset=offset, storedInstrument=instrument.Piano()))\n",
        "\n",
        "            offset += 0.5\n",
        "        except (ValueError, TypeError) as e:\n",
        "            print(f\"Error while processing pattern {pattern}: {e}\")\n",
        "            continue\n",
        "\n",
        "    stream.Stream(output_notes).write('midi', fp=output_file)\n"
      ]
    },
    {
      "cell_type": "code",
      "execution_count": 14,
      "metadata": {
        "id": "5svsmOu8V8Dj"
      },
      "outputs": [],
      "source": [
        "def generate_music(temperature, num_notes):\n",
        "    try:\n",
        "\n",
        "        with open('/content/drive/MyDrive/data/notes', 'rb') as filepath:\n",
        "            notes = pickle.load(filepath)\n",
        "\n",
        "        pitchnames = sorted(set(notes))\n",
        "        n_vocab = len(pitchnames)\n",
        "\n",
        "\n",
        "        network_input, _ = prepare_sequences(notes, n_vocab)\n",
        "\n",
        "\n",
        "        model = load_model('/content/drive/MyDrive/weights/final_model_extended.keras')\n",
        "\n",
        "\n",
        "        prediction_output = generate_notes(model, network_input, pitchnames, n_vocab, temperature, num_notes)\n",
        "\n",
        "\n",
        "        output_file = '/content/drive/MyDrive/outputf.mid'\n",
        "        create_midi(prediction_output, output_file)\n",
        "\n",
        "        return output_file\n",
        "    except Exception as e:\n",
        "        print(f\"Error during generation: {e}\")\n",
        "        return f\"An error occurred: {str(e)}\""
      ]
    },
    {
      "cell_type": "markdown",
      "source": [
        "## Interactive UI\n",
        "\n",
        "> Number of Notes, Temperature Control\n"
      ],
      "metadata": {
        "id": "-5BE9y9jlNBe"
      }
    },
    {
      "cell_type": "code",
      "source": [
        "pip install gradio"
      ],
      "metadata": {
        "id": "EJtbZ6nof7nH"
      },
      "execution_count": null,
      "outputs": []
    },
    {
      "cell_type": "code",
      "source": [
        "import gradio as gr\n",
        "\n",
        "def create_gradio_ui():\n",
        "\n",
        "    num_notes_slider = gr.Slider(minimum=200, maximum=500, value=200, label=\"Number of Notes\", step=10)\n",
        "    temperature_slider = gr.Slider(minimum=0.1, maximum=2, value=1, label=\"Temperature\", step=0.1)\n",
        "\n",
        "\n",
        "    with gr.Blocks() as demo:\n",
        "\n",
        "        with gr.Row():\n",
        "            gr.Markdown(\"# RagaXonic: AI Music Generator\")\n",
        "            gr.Image(\"/content/logo-Photoroom.png\", elem_id=\"logo\", width=200, height=200, interactive=False, show_label=False)\n",
        "\n",
        "        gr.Markdown(\"#### A custom 3-layered LSTM which fuses Hindustani and Western music, generating polyphonic MIDI files. Developed by Manas K.\")\n",
        "        gr.Markdown(\"_May take up to ~150s for generation._\")\n",
        "\n",
        "        with gr.Tab(\"Generate Music\"):\n",
        "            gr.Markdown(\"### Generate Music\")\n",
        "            num_notes_slider.render()\n",
        "            temperature_slider.render()\n",
        "            generate_button = gr.Button(\"Generate Music\")\n",
        "            output_midi = gr.File(label=\"Download MIDI\", interactive=False)\n",
        "\n",
        "            def update_status(temperature, num_notes):\n",
        "\n",
        "                output_file = generate_music(temperature, num_notes)\n",
        "                return output_file\n",
        "\n",
        "\n",
        "            generate_button.click(update_status, inputs=[temperature_slider, num_notes_slider], outputs=[output_midi])\n",
        "\n",
        "        with gr.Tab(\"Model Summary\"):\n",
        "            gr.Markdown(\"### Model Summary\")\n",
        "            gr.Image('/content/model_summary.png', show_label=False)\n",
        "\n",
        "    return demo\n",
        "\n",
        "demo = create_gradio_ui()\n",
        "demo.launch(share=True)"
      ],
      "metadata": {
        "id": "RwA9IkQTbQWs",
        "colab": {
          "base_uri": "https://localhost:8080/",
          "height": 609
        },
        "outputId": "c878bf34-d318-4a1b-e7ed-2c0ed5268ac7"
      },
      "execution_count": 17,
      "outputs": [
        {
          "output_type": "stream",
          "name": "stdout",
          "text": [
            "Colab notebook detected. To show errors in colab notebook, set debug=True in launch()\n",
            "* Running on public URL: https://3432d9349b4d834e98.gradio.live\n",
            "\n",
            "This share link expires in 72 hours. For free permanent hosting and GPU upgrades, run `gradio deploy` from the terminal in the working directory to deploy to Hugging Face Spaces (https://huggingface.co/spaces)\n"
          ]
        },
        {
          "output_type": "display_data",
          "data": {
            "text/plain": [
              "<IPython.core.display.HTML object>"
            ],
            "text/html": [
              "<div><iframe src=\"https://3432d9349b4d834e98.gradio.live\" width=\"100%\" height=\"500\" allow=\"autoplay; camera; microphone; clipboard-read; clipboard-write;\" frameborder=\"0\" allowfullscreen></iframe></div>"
            ]
          },
          "metadata": {}
        },
        {
          "output_type": "execute_result",
          "data": {
            "text/plain": []
          },
          "metadata": {},
          "execution_count": 17
        }
      ]
    }
  ],
  "metadata": {
    "accelerator": "GPU",
    "colab": {
      "gpuType": "T4",
      "machine_shape": "hm",
      "provenance": []
    },
    "kernelspec": {
      "display_name": "Python 3",
      "name": "python3"
    },
    "language_info": {
      "name": "python"
    }
  },
  "nbformat": 4,
  "nbformat_minor": 0
}